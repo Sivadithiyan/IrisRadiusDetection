{
 "cells": [
  {
   "cell_type": "code",
   "execution_count": 45,
   "id": "033108ac",
   "metadata": {},
   "outputs": [],
   "source": [
    "#Libraries\n",
    "\n",
    "import numpy as np\n",
    "import cv2\n",
    "from scipy.spatial import distance\n",
    "import statistics"
   ]
  },
  {
   "cell_type": "code",
   "execution_count": 46,
   "id": "fcd96945",
   "metadata": {},
   "outputs": [],
   "source": [
    "#---------------------------------------------------------------------\n",
    "#Display the image\n",
    "def display_image(name,image):\n",
    "    \n",
    "    cv2.imshow(name,image)\n",
    "    cv2.waitKey(0)\n",
    "#---------------------------------------------------------------------"
   ]
  },
  {
   "cell_type": "code",
   "execution_count": 78,
   "id": "af1c4595",
   "metadata": {},
   "outputs": [],
   "source": [
    "def image_processing(image):\n",
    "    \n",
    "    img = image\n",
    "    img_copy = img.copy()\n",
    "    \n",
    "    gray = cv2.cvtColor(img,cv2.COLOR_BGR2GRAY)\n",
    "    #display_image(\"Grayscale\",gray)\n",
    "    \n",
    "    _,thresh = cv2.threshold(gray,90,255,cv2.THRESH_BINARY)\n",
    "    #display_image(\"Theshold\",thresh)\n",
    "    \n",
    "    median = cv2.medianBlur(thresh,5)\n",
    "    #display_image(\"Blur\",median)\n",
    "    \n",
    "    canny = cv2.Canny(median, 200, 100)\n",
    "    \n",
    "    circles = cv2.HoughCircles(canny, cv2.HOUGH_GRADIENT, 1, 20, param1 = 200, param2 = 20, minRadius = 10, maxRadius = 0)\n",
    "    \n",
    "    if circles is not None:\n",
    "        inner_circle = np.uint16(np.around(circles[0][0])).tolist()\n",
    "        \n",
    "        #cv2.circle(image, (inner_circle[0], inner_circle[1]), inner_circle[2], (0, 255, 0), 1)\n",
    "        #display_image(\"Hough\",image)\n",
    "    \n",
    "        white_image = np.full((img.shape[0], img.shape[1]), 255, dtype=np.uint8)\n",
    "        cv2.circle(white_image, (inner_circle[0], inner_circle[1]), inner_circle[2]+8, (0, 0, 0), -1)\n",
    "        #display_image('Mask',white_image)\n",
    "        \n",
    "        roi = cv2.bitwise_or(median,white_image)\n",
    "        #display_image('roi',roi)\n",
    "        \n",
    "        canny_image = cv2.Canny(roi, 200, 100)\n",
    "        #display_image(\"canny_roi\",canny_image)\n",
    "        \n",
    "        contours, hierarchy = cv2.findContours(canny_image, cv2.RETR_TREE, cv2.CHAIN_APPROX_SIMPLE)\n",
    "        detected_contour = cv2.drawContours(image.copy(), contours, -1, (0,255,0), 1)\n",
    "        display_image(\"Contours\",detected_contour)\n",
    "    \n",
    "        #center\n",
    "        x = cv2.circle(image.copy(),(inner_circle[0], inner_circle[1]), 1, (255, 100, 0), 2)\n",
    "        display_image(\"Center\",x)\n",
    "        \n",
    "        pixelpoints = cv2.findNonZero(canny_image)\n",
    "        #print(pixelpoints)\n",
    "        \n",
    "        distance_list = []  \n",
    "        \n",
    "        for i,point in enumerate(pixelpoints):\n",
    "            \n",
    "            contour_point = (point[0][0],point[0][1])\n",
    "            center = (inner_circle[0],inner_circle[1])\n",
    "            dist = distance.euclidean(contour_point,center)\n",
    "            distance_list.append(dist)\n",
    "        #print(distance_list)\n",
    "        \n",
    "        radius_list = []\n",
    "        for i,val in enumerate(distance_list):\n",
    "            \n",
    "            radius = val*0.2645833333\n",
    "            if radius > 7:\n",
    "                continue\n",
    "            else:\n",
    "                radius_list.append(radius)\n",
    "        #print(radius_list)\n",
    "        \n",
    "        \n",
    "        final_value = statistics.median(radius_list)\n",
    "        print('Radius is : ',final_value)\n",
    "        \n",
    "        print(\"Diameter is \",final_value * 2)\n",
    "        "
   ]
  },
  {
   "cell_type": "code",
   "execution_count": 81,
   "id": "f0663e9e",
   "metadata": {},
   "outputs": [
    {
     "name": "stdout",
     "output_type": "stream",
     "text": [
      "Radius is :  6.776639817096015\n",
      "Diameter is  13.55327963419203\n"
     ]
    }
   ],
   "source": [
    "image = cv2.imread('eye.jpg',1)\n",
    "display_image(\"Original\",image)\n",
    "pp = image_processing(image)"
   ]
  },
  {
   "cell_type": "code",
   "execution_count": null,
   "id": "0a99a7a8",
   "metadata": {},
   "outputs": [],
   "source": []
  },
  {
   "cell_type": "code",
   "execution_count": null,
   "id": "c83bd59f",
   "metadata": {},
   "outputs": [],
   "source": []
  }
 ],
 "metadata": {
  "kernelspec": {
   "display_name": "Python 3",
   "language": "python",
   "name": "python3"
  },
  "language_info": {
   "codemirror_mode": {
    "name": "ipython",
    "version": 3
   },
   "file_extension": ".py",
   "mimetype": "text/x-python",
   "name": "python",
   "nbconvert_exporter": "python",
   "pygments_lexer": "ipython3",
   "version": "3.8.8"
  }
 },
 "nbformat": 4,
 "nbformat_minor": 5
}
